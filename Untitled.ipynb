{
 "cells": [
  {
   "cell_type": "code",
   "execution_count": 1,
   "id": "75e8238f-6ce1-48f6-96a8-2473590bb3b5",
   "metadata": {},
   "outputs": [
    {
     "name": "stdout",
     "output_type": "stream",
     "text": [
      "Hello World in Codespaces.\n"
     ]
    }
   ],
   "source": [
    "print(\"Hello World in Codespaces.\")"
   ]
  },
  {
   "cell_type": "code",
   "execution_count": null,
   "id": "85c82472-4b32-478f-9cc2-d0561472683e",
   "metadata": {},
   "outputs": [],
   "source": []
  }
 ],
 "metadata": {
  "kernelspec": {
   "display_name": "Python 3 (ipykernel)",
   "language": "python",
   "name": "python3"
  },
  "language_info": {
   "codemirror_mode": {
    "name": "ipython",
    "version": 3
   },
   "file_extension": ".py",
   "mimetype": "text/x-python",
   "name": "python",
   "nbconvert_exporter": "python",
   "pygments_lexer": "ipython3",
   "version": "3.10.13"
  }
 },
 "nbformat": 4,
 "nbformat_minor": 5
}
